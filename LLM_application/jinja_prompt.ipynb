{
  "nbformat": 4,
  "nbformat_minor": 0,
  "metadata": {
    "colab": {
      "provenance": [],
      "authorship_tag": "ABX9TyP3SFJtpUExY/VimJovJiKt",
      "include_colab_link": true
    },
    "kernelspec": {
      "name": "python3",
      "display_name": "Python 3"
    },
    "language_info": {
      "name": "python"
    }
  },
  "cells": [
    {
      "cell_type": "markdown",
      "metadata": {
        "id": "view-in-github",
        "colab_type": "text"
      },
      "source": [
        "<a href=\"https://colab.research.google.com/github/haiasd/EasyCV/blob/main/LLM_application/jinja_prompt.ipynb\" target=\"_parent\"><img src=\"https://colab.research.google.com/assets/colab-badge.svg\" alt=\"Open In Colab\"/></a>"
      ]
    },
    {
      "cell_type": "markdown",
      "source": [
        "[参考链接](https://www.cnblogs.com/sui776265233/p/10570712.html)"
      ],
      "metadata": {
        "id": "7jsYwY5NJ-mp"
      }
    },
    {
      "cell_type": "code",
      "execution_count": 1,
      "metadata": {
        "colab": {
          "base_uri": "https://localhost:8080/"
        },
        "id": "WB6IdqYw8K27",
        "outputId": "732c1de6-1864-4542-ec6f-bdeefae2d646"
      },
      "outputs": [
        {
          "output_type": "stream",
          "name": "stdout",
          "text": [
            "Requirement already satisfied: Jinja2 in /usr/local/lib/python3.10/dist-packages (3.1.4)\n",
            "Requirement already satisfied: MarkupSafe>=2.0 in /usr/local/lib/python3.10/dist-packages (from Jinja2) (2.1.5)\n"
          ]
        }
      ],
      "source": [
        "! pip install Jinja2"
      ]
    },
    {
      "cell_type": "markdown",
      "source": [
        "# 基础语法\n",
        "1. 控制结构 {%%}\n",
        "2. 变量取值 {{}}\n",
        "3. 注释 {##}"
      ],
      "metadata": {
        "id": "zYUAe6K9GRbA"
      }
    },
    {
      "cell_type": "code",
      "source": [
        "from jinja2 import Template\n",
        "temp = Template(\"<p>{{name}}</p>\")\n",
        "\n",
        "# 使用关键字传参\n",
        "content = temp.render(name=\"hello\")\n",
        "print(content)\n",
        "\n",
        "content2 = temp.render({\"name\": \"Hello\"})\n",
        "print(content2)\n",
        "\n",
        "# - 代表去除空白符号：空格、\\n、\\t\n",
        "temp = Template(\"<p>\\n\\t {{- name }}</p>\")\n",
        "content = temp.render(name=\"hello\")\n",
        "print(content)\n"
      ],
      "metadata": {
        "colab": {
          "base_uri": "https://localhost:8080/"
        },
        "id": "oBHqpIu-EbI8",
        "outputId": "72a3cf91-f1fd-40b2-f2a2-d6f665c23b9a"
      },
      "execution_count": 8,
      "outputs": [
        {
          "output_type": "stream",
          "name": "stdout",
          "text": [
            "<p>hello</p>\n",
            "<p>Hello</p>\n",
            "<p>hello</p>\n"
          ]
        }
      ]
    },
    {
      "cell_type": "markdown",
      "source": [
        "# 过滤器\n",
        "- safe 渲染值时不转义\n",
        "- capitalize 首字母大写，其他小些\n",
        "- lower 转换小写\n",
        "- upper 转换大写\n",
        "- title 值中每个单词首字母大写\n",
        "- trim 值的手尾空格去除\n",
        "- striptags 渲染之前把值中所有的HTML标签都删掉\n",
        "- join 拼接多个值为字符串\n",
        "- replace 替换字符串的值\n",
        "- round 对数字进行四舍五入\n",
        "- int 把值转换为整型"
      ],
      "metadata": {
        "id": "vDw7NokMHYEz"
      }
    },
    {
      "cell_type": "code",
      "source": [
        "# capitalize 值的首字母大写其他小些\n",
        "temp = Template(\"{{ 'abc' | capitalize  }}\")\n",
        "content = temp.render()\n",
        "print(content)\n",
        "\n",
        "# safe 渲染时不专义\n",
        "temp = Template(\"{{ name | upper }}\")\n",
        "content = temp.render(name=\"test\")\n",
        "print(content)\n",
        "\n",
        "temp = Template(\"{{ name | replace('world','daxin') | upper }}\")\n",
        "content = temp.render(name=\"world\")\n",
        "print(content)\n",
        "\n",
        "temp = Template(\"{{ num | round | int }}\")\n",
        "content = temp.render(num = 3.14)\n",
        "print(content)\n"
      ],
      "metadata": {
        "colab": {
          "base_uri": "https://localhost:8080/"
        },
        "id": "eE1MiqwBG_td",
        "outputId": "b67c00ee-3cea-4527-b5fe-fa18be8bf60b"
      },
      "execution_count": 24,
      "outputs": [
        {
          "output_type": "stream",
          "name": "stdout",
          "text": [
            "Abc\n",
            "TEST\n",
            "DAXIN\n",
            "3.0\n"
          ]
        }
      ]
    },
    {
      "cell_type": "markdown",
      "source": [
        "# 控制语句\n"
      ],
      "metadata": {
        "id": "2jywcqB1KbcH"
      }
    },
    {
      "cell_type": "code",
      "source": [
        "template = \"\"\"{% if input==1 %}\n",
        "input is {{ input }}.\n",
        "{% elif input>1 %}\n",
        "{{ input }} > 1\n",
        "{% else %}\n",
        "{{ input }} < 1\n",
        "{% endif %}\n",
        "\"\"\"\n",
        "\n",
        "temp = Template(template)\n",
        "content = temp.render(input=-1)\n",
        "print(content)"
      ],
      "metadata": {
        "colab": {
          "base_uri": "https://localhost:8080/"
        },
        "id": "RdYdhGyCKgaW",
        "outputId": "5bf71f84-5aa7-42c4-feaf-82741479b5b9"
      },
      "execution_count": 28,
      "outputs": [
        {
          "output_type": "stream",
          "name": "stdout",
          "text": [
            "\n",
            "-1 < 1\n",
            "\n"
          ]
        }
      ]
    },
    {
      "cell_type": "markdown",
      "source": [
        "# for 循环\n",
        "可用于列表，元组，字典\n",
        "\n",
        "特殊变量\n",
        "\n",
        "- loop.index 当前迭代的索引（从1开始）\n",
        "- loop.index0 当前迭代的索引（从0开始）\n",
        "- loop.first 是否是第一次迭代，返回bool\n",
        "- loop.last 是否是最后一次迭代，返回bool\n",
        "- loop.length 序列中的项目数量\n",
        "- loop.revindex 到循环结束的次数（从1开始）\n",
        "- loop.revindex0 到循环结束的次数(从0开始）\n"
      ],
      "metadata": {
        "id": "LU7xSkidLNgJ"
      }
    },
    {
      "cell_type": "code",
      "source": [
        "template = \"\"\"{% for user in users %}\n",
        "{{- user.username|title -}}\n",
        "{% endfor %}\n",
        "\"\"\"\n",
        "\n",
        "temp = Template(template)\n",
        "content = temp.render(users=[{\"username\": 'a'},{\"username\": 'b'}])\n",
        "print(content)"
      ],
      "metadata": {
        "colab": {
          "base_uri": "https://localhost:8080/"
        },
        "id": "7-4NavExLV_G",
        "outputId": "2b93b301-79bc-443b-e276-e4d50ac0f969"
      },
      "execution_count": 30,
      "outputs": [
        {
          "output_type": "stream",
          "name": "stdout",
          "text": [
            "AB\n"
          ]
        }
      ]
    },
    {
      "cell_type": "markdown",
      "source": [],
      "metadata": {
        "id": "bF6RZnmoL7UX"
      }
    }
  ]
}